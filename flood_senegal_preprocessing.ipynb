{
 "cells": [
  {
   "cell_type": "markdown",
   "metadata": {},
   "source": [
    "## Libraries I used"
   ]
  },
  {
   "cell_type": "code",
   "execution_count": 1,
   "metadata": {
    "collapsed": true
   },
   "outputs": [],
   "source": [
    "import httplib\n",
    "import urllib2\n",
    "import random\n",
    "import re\n",
    "import requests\n",
    "from httplib import IncompleteRead\n",
    "import json\n",
    "from bs4 import BeautifulSoup\n",
    "import pandas as pd\n",
    "import numpy as np\n",
    "import sys  \n",
    "reload(sys)  \n",
    "sys.setdefaultencoding('latin-1')"
   ]
  },
  {
   "cell_type": "markdown",
   "metadata": {},
   "source": [
    "## List \"arrondissement\" & \"departement\" & newpapers of Senegal"
   ]
  },
  {
   "cell_type": "code",
   "execution_count": 2,
   "metadata": {
    "collapsed": true
   },
   "outputs": [],
   "source": [
    "arrondissement = ['Almadies','Agnam Civol','Baba Garage','Bandafassi','Brassou','Bala','Bélé','Boghal','Bona',\n",
    "                  'Boyngel Bamba','Bamba Thialène','Barkédji','Bembou','Cas-Cas','Colobane','Coki',\n",
    "                  'Darou Minam','Dar Salam','Dakateli','Dagoudane','Dodji','Dakar Plateau',\n",
    "                  'Diakhao','Djilor','Djibanar','Djoulacolon','Diaroumé','Darou Mousty','Dianké Makha','Diendé',\n",
    "                  'Djibabouya','Djiredji','Fafacourou','Fissel','Fongolembi', 'Fimela',\n",
    "                  'Grand Dakar','Gamadji Saré','Guédiawaye','Gniby',\n",
    "                  'Kataba','Kael','Kabrousse','Katakel','Karatanba','Koussanar','Keur Moussa',\n",
    "                  'Kéniaba','Koulor','Koumbal','Kouthiaba Wolof','Keur Momar Sarr','Keur Mboucki',\n",
    "                  'Lambaye','Lour Escale','Loudia Ouoloff','Ida Mouride',\n",
    "                  'Mampatim','Makacolibantang','Moudéri','Mbane','Mbadakhoune','Missira Wadine','Missirah','Mbédiène',\n",
    "                  'Ndindy','Ndoulo','Ndiédieng','Ndande','Ndame','Niodor','Ngoye','Ndorna',\n",
    "                  'Niaming','Niayes','Ndiaye','Niakhar','Notto','Mabo','Médina Sabakh',\n",
    "                  'Ogo','Orkadiere','Ouadiour', 'Parcelles Assainies', 'Paoskoto','Rao','Rufisque',\n",
    "                  'Sagatta','Sagatta Dioloff','Saré Bidji','Sindian','Sangalkam','Sagna','Sakal',\n",
    "                  'Sabodala','Sibassor','Sindia','Séssène','Saldé','Thiénaba','Thiès',\n",
    "                  'Taif','Tendouck','Tenghory','Tattaguine','Thiaroye','Toubacouta','Thillé Boubacar',\n",
    "                  'Vélingara','Wouro Sidy','Wack Ngouna','Yang Yang']\n",
    "\n",
    "\n",
    "departement=['Bakel','Bambey','Bignona','Birkelane','Bounkiling','Dagana','Dakar','Diourbel','Fatick','Foundiougne',\n",
    "            'Gossas','Goudiry','Goudomp','Guédiawaye','Guinguinéo','Kaffrine','Kanel','Kaolack',\n",
    "             'Kébémer','Kédougou','Kolda','Koumpentoum','Koungheul','Linguère','Louga','Mbour',\n",
    "             'Malem Hodar','Matam','Mbacké','Médina Yoro Foulah','Nioro du Rip','Oussouye',\n",
    "             'Pikine','Podor','Ranérou-Ferlo','Rufisque','Saint-Louis','Salemata','Saraya',\n",
    "             'Sédhiou','Tambacounda','Thiès','Tivaouane','Vélingara','Ziguinchor']\n",
    "\n",
    "site_web=[\"http://www.aps.sn\",\"http://www.walf-groupe.com\",\"http://www.sudonline.sn\",\n",
    "          \"http://www.lesoleil.sn\",\"http://www.lequotidien.sn\",\"http://xalimasn.com\",\n",
    "          \"http://www.seneweb.com/index.php\",\"http://www.lagazette.sn\",\n",
    "          \"http://www.senetoile.net\",\"http://senego.com\",\n",
    "          \"http://www.sen360.com\",\"http://www.senenews.com\",\n",
    "          \"http://www.sen24heures.com\",\n",
    "          \"http://www.nettali.net\",\"http://www.leuksenegal.com\",\n",
    "          \"http://www.leral.net\",\"http://www.au-senegal.com/?lang=fr\",\n",
    "          \"http://www.dakaractu.com\",\"http://actusen.com\",\n",
    "          \"http://www.devoircitoyen.fr\",\n",
    "          \"http://www.homeviewsenegal.com\",\"http://www.enqueteplus.com\",\n",
    "          \"http://www.gouv.sn\",\"http://www.jaaduwul.com\",\"http://www.sn.undp.org\",\n",
    "          \"http://www.senegaltribune.com/articles\",\"http://www.slateafrique.com\",\n",
    "          \"http://www.caritas.sn\",\"http://senegal-business.com\",\n",
    "          \"http://xibaaru.com\",\"http://www.xibar.net\",\"http://www.lifixew.com\",\n",
    "          \"http://annagueye.blogspot.com\",\"http://www.ferloo.com\",\n",
    "          \"http://www.derniereminute.sn\",\"http://www.sunuker.com\",\"http://laviesenegalaise.net\",\n",
    "          \"http://mathiamenvironmentsenegal.blogspot.com\",\"http://lasomone.com\",\n",
    "          \"http://ledakarois.net\",\"http://www.dakar-echo.com\",\"http://www.telesenegal.com\",\n",
    "          \"http://www.igfm.sn\",\"http://galsen221.com\",\"http://www.dakarposte.com\",\n",
    "          \"http://mediafrik.com\",\"http://www.planete-senegal.com\",\"http://allodakar.com\",\n",
    "          \"http://www.ndarinfo.com\"]"
   ]
  },
  {
   "cell_type": "markdown",
   "metadata": {},
   "source": [
    "## Interation1 : loop thru newspapers and extract all links"
   ]
  },
  {
   "cell_type": "code",
   "execution_count": 3,
   "metadata": {
    "collapsed": false
   },
   "outputs": [],
   "source": [
    "all_page=[]\n",
    "for i,s in enumerate(site_web):\n",
    "    print i,s\n",
    "    try:\n",
    "        req = urllib2.Request(s.decode('utf-8'), headers={'User-Agent' : \"Magic Browser\"}) \n",
    "        page = urllib2.urlopen( req )\n",
    "        soup = BeautifulSoup(page)\n",
    "    except urllib2.HTTPError,e:\n",
    "        continue\n",
    "    except urllib2.URLError, e:\n",
    "        continue\n",
    "    except httplib.HTTPException, e:\n",
    "        continue\n",
    "    except Exception:\n",
    "        continue\n",
    "    #find all links\n",
    "    all_links= soup.find_all(\"a\")\n",
    "    #ensure all links are valid\n",
    "    link_inside= [link.get(\"href\") for link in all_links if link.get(\"href\") is not None]\n",
    "    link_inside= [link if link.startswith('http') or link.startswith('www') else s + link for link in link_inside]\n",
    "    #do not keep links from starter links\n",
    "    link_inside = [link for link in link_inside if link not in site_web]\n",
    "    #do not keep links that have been already recorded from the current loop\n",
    "    link_inside = [link for link in link_inside if link not in all_page]\n",
    "    for k in np.unique(link_inside):\n",
    "        all_page.append(k)"
   ]
  },
  {
   "cell_type": "markdown",
   "metadata": {},
   "source": [
    "###  Keep unique obs"
   ]
  },
  {
   "cell_type": "code",
   "execution_count": 4,
   "metadata": {
    "collapsed": false
   },
   "outputs": [
    {
     "data": {
      "text/plain": [
       "15428"
      ]
     },
     "execution_count": 4,
     "metadata": {},
     "output_type": "execute_result"
    }
   ],
   "source": [
    "all_page=np.unique(all_page)\n",
    "len(all_page)"
   ]
  },
  {
   "cell_type": "markdown",
   "metadata": {},
   "source": [
    "### Save \"all_page\" variable in csv"
   ]
  },
  {
   "cell_type": "code",
   "execution_count": 5,
   "metadata": {
    "collapsed": true
   },
   "outputs": [],
   "source": [
    "df = pd.DataFrame(data=all_page, index= range(len(all_page)), columns=['link'])\n",
    "df.to_csv(\"all_page.csv\",sep=\";\",encoding=\"utf-8\")"
   ]
  },
  {
   "cell_type": "markdown",
   "metadata": {},
   "source": [
    "## Iteration 2: loop again from the obtained links to add more depth and attain archives"
   ]
  },
  {
   "cell_type": "code",
   "execution_count": 6,
   "metadata": {
    "collapsed": true
   },
   "outputs": [],
   "source": [
    "all_page1=[]"
   ]
  },
  {
   "cell_type": "markdown",
   "metadata": {},
   "source": [
    "## randomly sample \"all_page\" to introduce randomness"
   ]
  },
  {
   "cell_type": "code",
   "execution_count": 7,
   "metadata": {
    "collapsed": true
   },
   "outputs": [],
   "source": [
    "all_page= random.sample(all_page,len(all_page))"
   ]
  },
  {
   "cell_type": "code",
   "execution_count": null,
   "metadata": {
    "collapsed": false,
    "scrolled": true
   },
   "outputs": [],
   "source": [
    "for i,s in enumerate(all_page[1580:]):\n",
    "    print i, s\n",
    "    try:\n",
    "        if \"pdf\" not in s and \"jpg\" not in s and \"javascript\" not in s:\n",
    "            req = urllib2.Request(s.decode('utf-8'), headers={'User-Agent' : \"Magic Browser\"})\n",
    "            page = urllib2.urlopen( req )\n",
    "        else:\n",
    "            continue\n",
    "    except urllib2.HTTPError,e:\n",
    "        continue\n",
    "    except urllib2.URLError, e:\n",
    "        continue\n",
    "    except httplib.HTTPException, e:\n",
    "        continue\n",
    "    except Exception:\n",
    "        continue\n",
    "    #handle page that does not actually exist\n",
    "    if len(page.read())==0:\n",
    "        print \"the above page does not exist\"\n",
    "        continue\n",
    "    else:\n",
    "        soup = BeautifulSoup(page)\n",
    "        #find all links from the current \"page\"\n",
    "        all_links= soup.find_all(\"a\")\n",
    "        #ensure all links are valid\n",
    "        link_inside= [link.get(\"href\") for link in all_links if link.get(\"href\") is not None]\n",
    "        link_inside= [link if link.startswith('http') or link.startswith('www') else s + link for link in link_inside]\n",
    "        #do not append links from starter links\n",
    "        link_inside = [link for link in link_inside if link not in site_web]\n",
    "        #do not append links from previous records\n",
    "        link_inside = [link for link in link_inside if link not in all_page]\n",
    "        #do not append links in the current records\n",
    "        link_inside = [link for link in link_inside if link not in all_page1]\n",
    "        for k in np.unique(link_inside):\n",
    "            print k, len(all_page1)\n",
    "            all_page1.append(k)"
   ]
  },
  {
   "cell_type": "markdown",
   "metadata": {},
   "source": [
    "### Keep unique pages"
   ]
  },
  {
   "cell_type": "code",
   "execution_count": 25,
   "metadata": {
    "collapsed": false,
    "scrolled": true
   },
   "outputs": [
    {
     "data": {
      "text/plain": [
       "73016"
      ]
     },
     "execution_count": 25,
     "metadata": {},
     "output_type": "execute_result"
    }
   ],
   "source": [
    "all_page1=np.unique(all_page1)\n",
    "all_page1=list(all_page1)\n",
    "len(all_page1)"
   ]
  },
  {
   "cell_type": "markdown",
   "metadata": {},
   "source": [
    "### Filter to remove social media links"
   ]
  },
  {
   "cell_type": "code",
   "execution_count": 26,
   "metadata": {
    "collapsed": false
   },
   "outputs": [
    {
     "data": {
      "text/plain": [
       "72894"
      ]
     },
     "execution_count": 26,
     "metadata": {},
     "output_type": "execute_result"
    }
   ],
   "source": [
    "f=filter(lambda x: 'linkedin' in x or 'facebook' in x or 'twitter' in x or 'youtube' in x or 'http://www.meteo-senegal.net' in x, all_page1)\n",
    "for k in site_web:\n",
    "    f.append(k)\n",
    "all_page1= [x for x in all_page1 if x not in f]\n",
    "len(all_page1)"
   ]
  },
  {
   "cell_type": "markdown",
   "metadata": {},
   "source": [
    "### Build and save a dataframe with \"all_page1\" variable"
   ]
  },
  {
   "cell_type": "code",
   "execution_count": 27,
   "metadata": {
    "collapsed": false,
    "scrolled": true
   },
   "outputs": [
    {
     "data": {
      "text/html": [
       "<div>\n",
       "<table border=\"1\" class=\"dataframe\">\n",
       "  <thead>\n",
       "    <tr style=\"text-align: right;\">\n",
       "      <th></th>\n",
       "      <th>link</th>\n",
       "    </tr>\n",
       "  </thead>\n",
       "  <tbody>\n",
       "    <tr>\n",
       "      <th>0</th>\n",
       "      <td>http://311.inburlingtonvt.us/index.php?title=9...</td>\n",
       "    </tr>\n",
       "    <tr>\n",
       "      <th>1</th>\n",
       "      <td>http://50.undp.org</td>\n",
       "    </tr>\n",
       "    <tr>\n",
       "      <th>2</th>\n",
       "      <td>http://50.undp.org/en/#future</td>\n",
       "    </tr>\n",
       "    <tr>\n",
       "      <th>3</th>\n",
       "      <td>http://50.undp.org/en/#timeline</td>\n",
       "    </tr>\n",
       "    <tr>\n",
       "      <th>4</th>\n",
       "      <td>http://50.undp.org/en/africa</td>\n",
       "    </tr>\n",
       "  </tbody>\n",
       "</table>\n",
       "</div>"
      ],
      "text/plain": [
       "                                                link\n",
       "0  http://311.inburlingtonvt.us/index.php?title=9...\n",
       "1                                 http://50.undp.org\n",
       "2                      http://50.undp.org/en/#future\n",
       "3                    http://50.undp.org/en/#timeline\n",
       "4                       http://50.undp.org/en/africa"
      ]
     },
     "execution_count": 27,
     "metadata": {},
     "output_type": "execute_result"
    }
   ],
   "source": [
    "df = pd.DataFrame(data=all_page1, index= range(len(all_page1)), columns=['link'])\n",
    "df.to_csv(\"base_links.csv\",sep=\";\",encoding=\"utf-8\")\n",
    "df.head()"
   ]
  },
  {
   "cell_type": "markdown",
   "metadata": {},
   "source": [
    "### Search for keywords related to flood events"
   ]
  },
  {
   "cell_type": "code",
   "execution_count": 29,
   "metadata": {
    "collapsed": false
   },
   "outputs": [
    {
     "data": {
      "text/plain": [
       "array([ u'http://del.icio.us/post?url=http://www.sunuker.com/2015/05/26/video-quand-le-parapluie-du-gentleman-obama-embrase-les-reseaux-sociaux/&title=VIDEO \\u2013 Quand le parapluie du \\xab\\xa0gentleman\\xa0\\xbb Obama embrase les r\\xe9seaux sociaux',\n",
       "       u'http://digg.com/submit?phase=2&url=http://www.sunuker.com/2015/05/26/video-quand-le-parapluie-du-gentleman-obama-embrase-les-reseaux-sociaux/&title=VIDEO \\u2013 Quand le parapluie du \\xab\\xa0gentleman\\xa0\\xbb Obama embrase les r\\xe9seaux sociaux',\n",
       "       u'http://laviesenegalaise.com/inondations-saint-louis-eaux-video',\n",
       "       u'http://laviesenegalaise.com/inondations-saint-louis-eaux-video#respond',\n",
       "       'http://ledakarois.netbethio-radie-ses-cheikhs-apres-le-ndigueul-du-khalife.html',\n",
       "       u'http://sphinn.com/submit.php?url=http://www.sunuker.com/2015/05/26/video-quand-le-parapluie-du-gentleman-obama-embrase-les-reseaux-sociaux/&title=VIDEO \\u2013 Quand le parapluie du \\xab\\xa0gentleman\\xa0\\xbb Obama embrase les r\\xe9seaux sociaux',\n",
       "       u'http://technorati.com/faves?add=http://www.sunuker.com/2015/05/26/video-quand-le-parapluie-du-gentleman-obama-embrase-les-reseaux-sociaux/',\n",
       "       u'http://www.aps.sn./?debut_articles=45#pagination_articlesactualites/economie/agriculture/article/kolda-l-arret-des-pluies-suscite-l-inquietude-autour-des-derniers-semis',\n",
       "       u'http://www.cm.undp.org/content/cameroon/fr/home/presscenter/articles/2016/07/12/choc-climatique-et-ins-curit-alimentaire.html',\n",
       "       u'http://www.cm.undp.org/content/cameroon/fr/home/presscenter/pressreleases/2016/09/22/changements-climatiques-le-cameroun-respecte-ses-engagements.html',\n",
       "       u'http://www.dakaractu.com/SCANDALE-AU-MARCHE-CASTORS-Des-vendeurs-lavent-leurs-legumes-dans-l-eau-de-la-pluie_a118306.html',\n",
       "       u'http://www.dakaractu.com/SCANDALE-AU-MARCHE-CASTORS-Des-vendeurs-lavent-leurs-legumes-dans-l-eau-de-la-pluie_a118306.html/BOKO-HARAM-Temoignages-des-lyceennes-de-Chibok-liberees-apres-2-ans-de-detention_a120095.html',\n",
       "       u'http://www.dakaractu.com/SCANDALE-AU-MARCHE-CASTORS-Des-vendeurs-lavent-leurs-legumes-dans-l-eau-de-la-pluie_a118306.html/Cheikh-Tidiane-Gomis-Certains-presidents-de-federations-sont-incapables_a120066.html',\n",
       "       u'http://www.dakaractu.com/SCANDALE-AU-MARCHE-CASTORS-Des-vendeurs-lavent-leurs-legumes-dans-l-eau-de-la-pluie_a118306.html/Contribution_r15.html',\n",
       "       u'http://www.dakaractu.com/SCANDALE-AU-MARCHE-CASTORS-Des-vendeurs-lavent-leurs-legumes-dans-l-eau-de-la-pluie_a118306.html/LA-MANIFESTATION-REPRIMEE-DE-L-OPPOSITION-A-T-ELLE-FAIT-CHUTER-LE-COURS-DE-KOSMOS-ENERGY-A-LA-BOURSE-DE-NEW-YORK_a120072.html',\n",
       "       u'http://www.dakaractu.com/SCANDALE-AU-MARCHE-CASTORS-Des-vendeurs-lavent-leurs-legumes-dans-l-eau-de-la-pluie_a118306.html/Laser-du-Lundi_r17.html',\n",
       "       u'http://www.dakaractu.com/SCANDALE-AU-MARCHE-CASTORS-Des-vendeurs-lavent-leurs-legumes-dans-l-eau-de-la-pluie_a118306.html/Le-cadeau-parfait-de-Ronaldo-a-un-joueur-du-Betis_a120083.html',\n",
       "       u'http://www.dakaractu.com/SCANDALE-AU-MARCHE-CASTORS-Des-vendeurs-lavent-leurs-legumes-dans-l-eau-de-la-pluie_a118306.html/People-Sports_r7.html',\n",
       "       u'http://www.dakaractu.com/SCANDALE-AU-MARCHE-CASTORS-Des-vendeurs-lavent-leurs-legumes-dans-l-eau-de-la-pluie_a118306.html/Radio_r11.html',\n",
       "       u'http://www.dakaractu.com/SCANDALE-AU-MARCHE-CASTORS-Des-vendeurs-lavent-leurs-legumes-dans-l-eau-de-la-pluie_a118306.html/SCANDALE-AU-MARCHE-CASTORS-Des-vendeurs-lavent-leurs-legumes-dans-l-eau-de-la-pluie_a118306.html?print=1',\n",
       "       u'http://www.dakaractu.com/SCANDALE-AU-MARCHE-CASTORS-Des-vendeurs-lavent-leurs-legumes-dans-l-eau-de-la-pluie_a118306.html/SITUATION-DANS-LE-MILIEU-CARCERAL-DAKARACTU-rencontre-un-ancien-detenu-et-un-ancien-gardien-penitentiaire_a120067.html',\n",
       "       u'http://www.dakaractu.com/SCANDALE-AU-MARCHE-CASTORS-Des-vendeurs-lavent-leurs-legumes-dans-l-eau-de-la-pluie_a118306.html/Television_r10.html',\n",
       "       u'http://www.dakaractu.com/SCANDALE-AU-MARCHE-CASTORS-Des-vendeurs-lavent-leurs-legumes-dans-l-eau-de-la-pluie_a118306.html/ads/110416/',\n",
       "       u'http://www.dakaractu.com/SCANDALE-AU-MARCHE-CASTORS-Des-vendeurs-lavent-leurs-legumes-dans-l-eau-de-la-pluie_a118306.html/ads/114509/',\n",
       "       u'http://www.dakaractu.com/SCANDALE-AU-MARCHE-CASTORS-Des-vendeurs-lavent-leurs-legumes-dans-l-eau-de-la-pluie_a118306.html/feeds/',\n",
       "       u'http://www.dakaractu.com/SCANDALE-AU-MARCHE-CASTORS-Des-vendeurs-lavent-leurs-legumes-dans-l-eau-de-la-pluie_a118306.html/newsletter/',\n",
       "       u'http://www.dakaractu.com/SCANDALE-AU-MARCHE-CASTORS-Des-vendeurs-lavent-leurs-legumes-dans-l-eau-de-la-pluie_a118306.html/send/10227368/',\n",
       "       u'http://www.dakaractu.com/SCANDALE-AU-MARCHE-CASTORS-Des-vendeurs-lavent-leurs-legumes-dans-l-eau-de-la-pluie_a118306.html/submit/',\n",
       "       u'http://www.dakaractu.com/SCANDALE-AU-MARCHE-CASTORS-Des-vendeurs-lavent-leurs-legumes-dans-l-eau-de-la-pluie_a118306.htmlAMADOU-BA-LORS-DE-LA-REUNION-AVEC-LES-PTF-Nous-allons-vers-une-consultation-plus-reguliere-de-l-IGE-Une-publication_a119972.html',\n",
       "       u'http://www.dakaractu.com/SCANDALE-AU-MARCHE-CASTORS-Des-vendeurs-lavent-leurs-legumes-dans-l-eau-de-la-pluie_a118306.htmlAliou-Sall-demissionne-de-Petro-Tim-Senegal-Frank-Timis-le-propulse-Directeur-Marketing-Afrique-de-Timis-Group_a119872.html',\n",
       "       u'http://www.dakaractu.com/SCANDALE-AU-MARCHE-CASTORS-Des-vendeurs-lavent-leurs-legumes-dans-l-eau-de-la-pluie_a118306.htmlApres-avoir-demissionne-Aliou-Sall-remercie-ceux-qui-l-ont-Soutenu_a119875.html',\n",
       "       u'http://www.dakaractu.com/SCANDALE-AU-MARCHE-CASTORS-Des-vendeurs-lavent-leurs-legumes-dans-l-eau-de-la-pluie_a118306.htmlBOKO-HARAM-Temoignages-des-lyceennes-de-Chibok-liberees-apres-2-ans-de-detention_a120095.html',\n",
       "       u'http://www.dakaractu.com/SCANDALE-AU-MARCHE-CASTORS-Des-vendeurs-lavent-leurs-legumes-dans-l-eau-de-la-pluie_a118306.htmlCheikh-Tidiane-Gomis-Certains-presidents-de-federations-sont-incapables_a120066.html',\n",
       "       u'http://www.dakaractu.com/SCANDALE-AU-MARCHE-CASTORS-Des-vendeurs-lavent-leurs-legumes-dans-l-eau-de-la-pluie_a118306.htmlCommunique-Conseil-des-Ministres-du-jeudi-13-Octobre-2016_a119871.html',\n",
       "       u'http://www.dakaractu.com/SCANDALE-AU-MARCHE-CASTORS-Des-vendeurs-lavent-leurs-legumes-dans-l-eau-de-la-pluie_a118306.htmlEDITO-Pourquoi-Dakaractu-n-a-pas-diffuse-les-images-des-obseques-de-Deguene-Chimere_a119869.html',\n",
       "       u'http://www.dakaractu.com/SCANDALE-AU-MARCHE-CASTORS-Des-vendeurs-lavent-leurs-legumes-dans-l-eau-de-la-pluie_a118306.htmlEmission-Ngonal-avec-Aly-Ngouille-N-diaye_a120004.html',\n",
       "       u'http://www.dakaractu.com/SCANDALE-AU-MARCHE-CASTORS-Des-vendeurs-lavent-leurs-legumes-dans-l-eau-de-la-pluie_a118306.htmlEmission-Pile-ou-Face-avec-Mamadou-Lamine-Diallo_a119913.html',\n",
       "       u'http://www.dakaractu.com/SCANDALE-AU-MARCHE-CASTORS-Des-vendeurs-lavent-leurs-legumes-dans-l-eau-de-la-pluie_a118306.htmlGuy-Marius-Sagna-arrete_a119947.html',\n",
       "       u'http://www.dakaractu.com/SCANDALE-AU-MARCHE-CASTORS-Des-vendeurs-lavent-leurs-legumes-dans-l-eau-de-la-pluie_a118306.htmlL-Afrique-a-un-incroyable-talent-le-senegalais-El-Hadj-Keita-impressionne-le-jury_a120048.html',\n",
       "       u'http://www.dakaractu.com/SCANDALE-AU-MARCHE-CASTORS-Des-vendeurs-lavent-leurs-legumes-dans-l-eau-de-la-pluie_a118306.htmlLA-MANIFESTATION-REPRIMEE-DE-L-OPPOSITION-A-T-ELLE-FAIT-CHUTER-LE-COURS-DE-KOSMOS-ENERGY-A-LA-BOURSE-DE-NEW-YORK_a120072.html',\n",
       "       u'http://www.dakaractu.com/SCANDALE-AU-MARCHE-CASTORS-Des-vendeurs-lavent-leurs-legumes-dans-l-eau-de-la-pluie_a118306.htmlLES-INSOLITES-DE-LA-MARCHE-Idy-tombe-Oumar-Sarr-chasse-de-son-refuge-Malick-Ndiaye-victime-de-son-grand-boubou_a119946.html',\n",
       "       u'http://www.dakaractu.com/SCANDALE-AU-MARCHE-CASTORS-Des-vendeurs-lavent-leurs-legumes-dans-l-eau-de-la-pluie_a118306.htmlLe-cadeau-parfait-de-Ronaldo-a-un-joueur-du-Betis_a120083.html',\n",
       "       u'http://www.dakaractu.com/SCANDALE-AU-MARCHE-CASTORS-Des-vendeurs-lavent-leurs-legumes-dans-l-eau-de-la-pluie_a118306.htmlLes-autres-images-de-la-marche-du-Front-Wattu-Senegaal_a119980.html',\n",
       "       u'http://www.dakaractu.com/SCANDALE-AU-MARCHE-CASTORS-Des-vendeurs-lavent-leurs-legumes-dans-l-eau-de-la-pluie_a118306.htmlLes-images-des-21-lyceennes-liberees-par-Boko-Haram_a119912.html',\n",
       "       u'http://www.dakaractu.com/SCANDALE-AU-MARCHE-CASTORS-Des-vendeurs-lavent-leurs-legumes-dans-l-eau-de-la-pluie_a118306.htmlMARCHE-DE-L-OPPOSITION-La-police-lance-des-lacrymogenes-et-disperse-les-manifestants_a119933.html',\n",
       "       u'http://www.dakaractu.com/SCANDALE-AU-MARCHE-CASTORS-Des-vendeurs-lavent-leurs-legumes-dans-l-eau-de-la-pluie_a118306.htmlMARCHE-DU-14-OCTOBRE-Les-leaders-en-tenue-de-combat_a119939.html',\n",
       "       u'http://www.dakaractu.com/SCANDALE-AU-MARCHE-CASTORS-Des-vendeurs-lavent-leurs-legumes-dans-l-eau-de-la-pluie_a118306.htmlMamour-Cisse-sur-le-petrole-et-le-gaz-Nous-demandons-la-creation-d-une-commission-d-enquete-parlementaire-pour-edifier_a119866.html',\n",
       "       u'http://www.dakaractu.com/SCANDALE-AU-MARCHE-CASTORS-Des-vendeurs-lavent-leurs-legumes-dans-l-eau-de-la-pluie_a118306.htmlMe-Augustin-Senghor-au-tirage-du-tournoi-du-Parlement_a119867.html',\n",
       "       u'http://www.dakaractu.com/SCANDALE-AU-MARCHE-CASTORS-Des-vendeurs-lavent-leurs-legumes-dans-l-eau-de-la-pluie_a118306.htmlNDAR-Thiossanu-Rawante-gaal-Regardez-NDAR-Thiossanu-Rawante-gaal-Regardez-_a119983.html',\n",
       "       u'http://www.dakaractu.com/SCANDALE-AU-MARCHE-CASTORS-Des-vendeurs-lavent-leurs-legumes-dans-l-eau-de-la-pluie_a118306.htmlNous-abattrons-les-avions-americains-la-3e-Guerre-mondiale-a-deja-commence-a-la-television-russe_a119877.html',\n",
       "       u'http://www.dakaractu.com/SCANDALE-AU-MARCHE-CASTORS-Des-vendeurs-lavent-leurs-legumes-dans-l-eau-de-la-pluie_a118306.htmlPrendUnTaxiCommeAbdoulMbaye-Le-hashtag-qui-secoue-la-toile_a119961.html',\n",
       "       u'http://www.dakaractu.com/SCANDALE-AU-MARCHE-CASTORS-Des-vendeurs-lavent-leurs-legumes-dans-l-eau-de-la-pluie_a118306.htmlSERIGNE-MOUNTAKHA-SUR-LA-MOSQUEE-DE-POROKHANE-J-ai-decide-de-suppleer-le-valeureux-Moustapha-Yacine-Gueye_a119996.html',\n",
       "       u'http://www.dakaractu.com/SCANDALE-AU-MARCHE-CASTORS-Des-vendeurs-lavent-leurs-legumes-dans-l-eau-de-la-pluie_a118306.htmlSITUATION-DANS-LE-MILIEU-CARCERAL-DAKARACTU-rencontre-un-ancien-detenu-et-un-ancien-gardien-penitentiaire_a120067.html',\n",
       "       u'http://www.dakaractu.com/SCANDALE-AU-MARCHE-CASTORS-Des-vendeurs-lavent-leurs-legumes-dans-l-eau-de-la-pluie_a118306.htmlTHERESE-FAYE-AU-FORUM-DE-KAOLACK-L-opposition-cherche-a-perturber-ce-pays_a120002.html',\n",
       "       u'http://www.dakaractu.com/SCANDALE-AU-MARCHE-CASTORS-Des-vendeurs-lavent-leurs-legumes-dans-l-eau-de-la-pluie_a118306.htmlTounkara-a-Me-El-hadj-Diouf-Tu-ne-devrais-pas-defendre-Franck-Timis-VIDEO_a120051.html',\n",
       "       u'http://www.dakaractu.com/SCANDALE-AU-MARCHE-CASTORS-Des-vendeurs-lavent-leurs-legumes-dans-l-eau-de-la-pluie_a118306.htmlTrop-c-est-trop-le-spectaculaire-discours-de-Michelle-Obama-contre-Donald-Trump_a119896.html',\n",
       "       u'http://www.dakaractu.com/SCANDALE-AU-MARCHE-CASTORS-Des-vendeurs-lavent-leurs-legumes-dans-l-eau-de-la-pluie_a118306.htmlVIDEO-ZIARRA-ACHOURA-2016-A-TIVAOUANE-Entretien-Avec-les-Ministres-Mame-Mbaye-Niang-et-Abdou-Ndene-Sall_a119921.html',\n",
       "       u'http://www.dakaractu.com/SCANDALE-AU-MARCHE-CASTORS-Des-vendeurs-lavent-leurs-legumes-dans-l-eau-de-la-pluie_a118306.htmlWATTU-SENEGAL-MOBILISE-LA-PRESSE-ETRANGERE_a119936.html',\n",
       "       u'http://www.dakaractu.com/SCANDALE-AU-MARCHE-CASTORS-Des-vendeurs-lavent-leurs-legumes-dans-l-eau-de-la-pluie_a118306.htmljavascript:void(0)',\n",
       "       u'http://www.dakarposte.com/Convocation-de-Barthelemy-Dias-Cheikh-Bamba-Dieye-denonce-une-justice-climatique_a10423.html',\n",
       "       u'http://www.google.com/bookmarks/mark?op=edit&bkmk=http://www.sunuker.com/2015/05/26/video-quand-le-parapluie-du-gentleman-obama-embrase-les-reseaux-sociaux/&title=VIDEO \\u2013 Quand le parapluie du \\xab\\xa0gentleman\\xa0\\xbb Obama embrase les r\\xe9seaux sociaux',\n",
       "       u'http://www.leral.net/Convocation-de-Barthelemy-Dias-Cheikh-Bamba-Dieye-denonce-une-justice-climatique_a182826.html',\n",
       "       'http://www.ndarinfo.com/Changements-climatiques-un-projet-veut-sensibiliser-les-eleves-de-Saint-Louis_a8459.html',\n",
       "       u'http://www.ndarinfo.com/search/gandon//Changements-climatiques-un-projet-veut-sensibiliser-les-eleves-de-Saint-Louis_a8459.html',\n",
       "       u'http://www.planete-senegal.com/senegal/geographie_senegal.phpagriculture_senegal.php?PHPSESSID=1a52e872400180486669db929b68e784#pluiesvegetal',\n",
       "       u'http://www.planete-senegal.com/senegal/lexique_recherche.phpagriculture_senegal.php#pluiesvegetal',\n",
       "       'http://www.senegaltribune.com/articles/1372/1/EAU-ET-AGRICULTURE--Pour-un-paysannat-moins-tributaire-des-pluies/Page1.html',\n",
       "       'http://www.senegaltribune.com/articles/1682/1/Gestion-des-inondations--Wade-maintient-la-tete-hors-de-leau/Page1.html',\n",
       "       'http://www.senegaltribune.com/articles/1876/1/DEBUT-DHIVERNAGE--Diourbel-a-enregistre-sa-premiere-pluie/Page1.html',\n",
       "       'http://www.senegaltribune.com/articles/1994/1/Le-rechauffement-climatique-au-menu-du-magazine--Ecran-Vert-/Page1.html',\n",
       "       'http://www.senegaltribune.com/articles/2060/1/Consequences-desastreuses-du-changement-climatique-sur-les-pauvres--Les-pays-riches-pollueurs-doivent-payer-selon-Kofi-Annan/Page1.html',\n",
       "       'http://www.senegaltribune.com/articles/2074/1/SAN-JON--Une-fete-bien-arrosee-par-la-pluie/Page1.html',\n",
       "       'http://www.senegaltribune.com/articles/2145/1/TIVAOUANE-DIACKSAO-ET-DALIFORT--Discussions-sur-les-mesures-de-prevention-des-inondations/Page1.html',\n",
       "       'http://www.senegaltribune.com/articles/2191/1/Forum-sur-la-gestion-des-inondations--Le-maire-de-la-commune-de-Medina-Gounass-lance-un-Sos-aux-autorites/Page1.html',\n",
       "       'http://www.senegaltribune.com/articles/2527/1/METEOROLOGIE-NATIONALE--Le-programme-des-pluies-provoquees-demarre-aujourdhui/Page1.html',\n",
       "       'http://www.senegaltribune.com/articles/2739/1/Telethon-pour-amoindrir-les-inondations-en-banlieue--20-millions-de-francs-Cfa-deja-recoltes-avant-son-lancement/Page1.html',\n",
       "       'http://www.senegaltribune.com/articles/2889/1/INONDATIONS--La-banlieue-sous-les-eaux-de-pluie/Page1.html',\n",
       "       'http://www.senegaltribune.com/articles/2937/1/SOUTIEN---Malgre-une-pluie-intermittente--Les-confreres-assurent-une-forte-mobilisation/Page1.html',\n",
       "       'http://www.senegaltribune.com/articles/2955/1/Cheikh-Gueye-2e-adjoint-au-maire--La-dette-de-lEtat-a-aggrave-les-inondations/Page1.html',\n",
       "       'http://www.senegaltribune.com/articles/3163/1/Pour-un-avenir-dans-un-monde-intelligent-sur-le-plan-climatique/Page1.html',\n",
       "       u'http://www.senegaltribune.com/articles/3163/1/Pour-un-avenir-dans-un-monde-intelligent-sur-le-plan-climatique/Page1.htmljavascript:ReplyToComment(0);',\n",
       "       u\"http://www.senegaltribune.com/articles/3163/1/Pour-un-avenir-dans-un-monde-intelligent-sur-le-plan-climatique/Page1.htmljavascript:emailToFriend('http://www.senegaltribune.com/articles/3163/1/Pour-un-avenir-dans-un-monde-intelligent-sur-le-plan-climatique/Page1.html/articleemail')\",\n",
       "       u'http://www.senegaltribune.com/articles/3163/1/Pourunavenirdansunmondeintelligentsurleplanclimatique/Page1.html/addfav',\n",
       "       u'http://www.senegaltribune.com/articles/3163/1/Pourunavenirdansunmondeintelligentsurleplanclimatique/Page1.html/addread',\n",
       "       u'http://www.senegaltribune.com/articles/3163/1/Pourunavenirdansunmondeintelligentsurleplanclimatique/Page1.html/print',\n",
       "       'http://www.senegaltribune.com/articles/3197/1/POINT-DE-VUE--Le-monde-a-besoin-dun-nouvel-accord-sur-les-changements-climatiques/Page1.html',\n",
       "       'http://www.senegaltribune.com/articles/3202/1/OUMAR-SARR-AU-CONSEIL-ECONOMIQUE-ET-SOCIAL--Un-Haut-commissariat-contre-les-inondations-annonce/Page1.html',\n",
       "       'http://www.senegaltribune.com/articles/3216/1/PREMIERE-SESSION-ORDINAIRE-DU-CONSEIL-ECONOMIQUE-ET-SOCIAL--Leducation-et-les-inondations-au-cur-des-preoccupations/Page1.html',\n",
       "       'http://www.senegaltribune.com/articles/3263/1/Ouverture-des-classes--Les-inondations-compromettent-la-rentree/Page1.html',\n",
       "       'http://www.senegaltribune.com/articles/3273/1/MBOUR-VILLE-EN-MORCEAUX-VILLE-EN-DECADENCE--Le-temps-des-bidonvilles/Page1.html',\n",
       "       'http://www.senegaltribune.com/articles/3547/1/PARTENARIAT-BANQUE-MONDIALE-SENEGAL--Evaluer-les-inondations-pour-plus-defficacite/Page1.html',\n",
       "       'http://www.senegaltribune.com/articles/3560/1/Evaluation-des-besoins-post-inondations--LEtat-en-quete-de-solutions/Page1.html',\n",
       "       'http://www.senegaltribune.com/articles/3783/1/Le-Ptip-ne-resout-pas-les-inondations-et-les-delestages-Me-Babou-ne-voit-pas-de-solution-dici-2012/Page1.html',\n",
       "       'http://www.senegaltribune.com/articles/4901/1/RESTRUCTURATION-URBAINE--Le-Senegal-lance-le-projet--des-villes-sans-bidonvilles-/Page1.html',\n",
       "       'http://www.senegaltribune.com/articles/5279/1/MATAR-NDIAYE-DIRECTEUR-DE-LA-METEOROLOGIE-nationale---Les-changements-climatiques-nepargnent-pas-le-Senegal-/Page1.html',\n",
       "       'http://www.senegaltribune.com/articles/5481/1/JOURNEE-MONDIALE-DE-LA-TERRE--AjPads-pour-une-justice-climatique/Page1.html',\n",
       "       'http://www.senegaltribune.com/articles/5802/1/HIVERNAGE--Premieres-pluies-dans-les-regions-centres/Page1.html',\n",
       "       'http://www.senegaltribune.com/articles/6317/1/APPUI-DE-LUEMOA--Un-milliard-de-Fcfa-aux-victimes-des-inondations/Page1.html',\n",
       "       'http://www.senegaltribune.com/articles/6380/1/Financement-de-ladaptation-au-changement-climatiqueLe-WWF-denonce-le-transfert-de-la-responsabilite-au-secteur-prive/Page1.html',\n",
       "       'http://www.senegaltribune.com/articles/6430/1/Changement-climatique--Lhumanite-est-elle-manipulee-par-les-services-secrets-americains-et-russes-/Page1.html',\n",
       "       'http://www.senegaltribune.com/articles/6553/1/A-cause-des-changements-climatiques--LAfrique-perdra-50--de-sa-production-agricole-selon-les-experts-militaires-canadiens/Page1.html',\n",
       "       'http://www.senegaltribune.com/articles/7041/1/Peche-et-changements-climatiques--Le-SENEGAL-a-la-recherche-de-solutions-dadaptation-/Page1.html',\n",
       "       'http://www.senegaltribune.com/articles/7312/1/Travaux-contre-les-inondations--Des-quartiers-de-la-banlieue-liberes-des-eaux/Page1.html',\n",
       "       'http://www.senegaltribune.com/articles/7325/1/Gestion-des-inondations--Karim-WADE-offre-une-dizaine-de-motopompes-aux-Thiessois-/Page1.html',\n",
       "       u'http://www.senenews.com/2016/09/19/video-cheikh-bethio-radie-tous-ses-cheikhs-apres-le-ndigueul-du-khalife_166825.html',\n",
       "       u'http://www.senenews.com/2016/10/17/exclusif-divorce-de-birima-mangara-une-sordide-affaire-commanditee-sur-toute-la-ligne-par-un-escroc_168996.htmlmailto:?subject=Divorce%20de%20Birima%20Mangara%20%3A%20une%20sordide%20affaire%20commandit%C3%A9e%20sur%20toute%20la%20ligne&body=Cette%20calomnie%20dont%20a%20%C3%A9t%C3%A9%20victime%20Mme%20Maty%20Fall%20est%20un%20complot%20ourdi%20de%20longue%20date.%20Mais%2C%20comme%20le%20dit%20l%E2%80%99adage%2C%20%C2%AB%20Y%C3%A9%C3%A9n%C3%A9%20n%C3%A9gue%20leu.%20Borom%20Macci%20Fanane.%20%C2%BB%20La%20pluie%20d%E2%80%99ignominies%20qu%E2%80%99ils%20ont%20provoqu%C3%A9e%20leur%20est%20revenue%20sur%20la%20Read%20here%3A%20http%3A%2F%2Fwww.senenews.com%2F2016%2F10%2F17%2Fexclusif-divorce-de-birima-mangara-une-sordide-affaire-commanditee-sur-toute-la-ligne-par-un-escroc_168996.html',\n",
       "       u'http://www.senetoile.net/regions-du-senegal/119/regions-du-senegal/119-matam/19750-alerte-de-lomvs--les-inondations-aux-portes-de-matam-et-podor',\n",
       "       u'http://www.senetoile.net/regions-du-senegal/334/regions-du-senegal/334-boucotte-mancagne/987001-ziguinchor--un-enfant-tue-dans-l-effondrement-d-un-mur-a-boucotte',\n",
       "       u'http://www.slateafrique.com/667067/drogue-femmes-africaines-paris/691791/benin-au-moins-3-morts-dans-leffondrement-dun-immeuble-en-construction',\n",
       "       u'http://www.slateafrique.com/675919/en-afrique-candidat-presidentille/691791/benin-au-moins-3-morts-dans-leffondrement-dun-immeuble-en-construction',\n",
       "       u'http://www.slateafrique.com/679983/ou-vont-les-africains-en-vacances/691791/benin-au-moins-3-morts-dans-leffondrement-dun-immeuble-en-construction',\n",
       "       u'http://www.slateafrique.com/685019/togo-le-secteur-du-phosphate-?-nouveau-paralyse-par-une-greve/691791/benin-au-moins-3-morts-dans-leffondrement-dun-immeuble-en-construction',\n",
       "       u'http://www.slateafrique.com/690875/les-observateurs-de-lue-au-gabon-etaient-sur-ecoute-assure-un-hebdo-francais/691791/benin-au-moins-3-morts-dans-leffondrement-dun-immeuble-en-construction',\n",
       "       u'http://www.slateafrique.com/691497/mohammed-6-roi-selfies-maroc/691791/benin-au-moins-3-morts-dans-leffondrement-dun-immeuble-en-construction',\n",
       "       'http://www.slateafrique.com/691791/benin-au-moins-3-morts-dans-leffondrement-dun-immeuble-en-construction',\n",
       "       u'http://www.slateafrique.com/692757/mali-fermeture-des-bureaux-du-producteur-dor-randgold-/691791/benin-au-moins-3-morts-dans-leffondrement-dun-immeuble-en-construction',\n",
       "       u'http://www.slateafrique.com/693407/le-nigeria-annonce-la-liberation-de-21-lyceennes-de-chibok/691791/benin-au-moins-3-morts-dans-leffondrement-dun-immeuble-en-construction',\n",
       "       u'http://www.slateafrique.com/693704/au-maroc-la-chevauchee-fantastique-des-tbouridas/691791/benin-au-moins-3-morts-dans-leffondrement-dun-immeuble-en-construction',\n",
       "       u'http://www.slateafrique.com/694331/ethiopie-nouvelles-restrictions-dans-le-cadre-de-letat-durgence/691791/benin-au-moins-3-morts-dans-leffondrement-dun-immeuble-en-construction',\n",
       "       u'http://www.slateafrique.com/694334/algerie-alain-perrin-de-nouveau-candidat-au-poste-de-selectionneur/691791/benin-au-moins-3-morts-dans-leffondrement-dun-immeuble-en-construction',\n",
       "       u'http://www.slateafrique.com/pays/11/Botswana/691791/benin-au-moins-3-morts-dans-leffondrement-dun-immeuble-en-construction',\n",
       "       u'http://www.slateafrique.com/pays/20/%C3%89rythr%C3%A9e/691791/benin-au-moins-3-morts-dans-leffondrement-dun-immeuble-en-construction',\n",
       "       u'http://www.slateafrique.com/pays/22/Gabon/691791/benin-au-moins-3-morts-dans-leffondrement-dun-immeuble-en-construction',\n",
       "       u'http://www.slateafrique.com/pays/39/Namibie/691791/benin-au-moins-3-morts-dans-leffondrement-dun-immeuble-en-construction',\n",
       "       u'http://www.stumbleupon.com/submit?url=http://www.sunuker.com/2015/05/26/video-quand-le-parapluie-du-gentleman-obama-embrase-les-reseaux-sociaux/&title=VIDEO \\u2013 Quand le parapluie du \\xab\\xa0gentleman\\xa0\\xbb Obama embrase les r\\xe9seaux sociaux',\n",
       "       u'http://www.sunuker.com/2013/08/19/emission-voixvoie-des-jeunes-theme-arretons-de-politiser-les-souffrances-des-victimes-des-inondations-avec-lassociation-grand-yoff-debout/',\n",
       "       u'http://www.sunuker.com/2013/12/28/integralite-de-lemission-sortie-avec-sidy-lamine-niasse-je-savais-que-macky-sall-allait-porter-le-malheur-au-senegal-avec-des-pluies-hors-saison/',\n",
       "       u'http://www.sunuker.com/2015/05/26/video-quand-le-parapluie-du-gentleman-obama-embrase-les-reseaux-sociaux/',\n",
       "       u'http://www.sunuker.com/2015/05/26/video-quand-le-parapluie-du-gentleman-obama-embrase-les-reseaux-sociaux/#',\n",
       "       u'http://www.sunuker.com/2015/05/26/video-quand-le-parapluie-du-gentleman-obama-embrase-les-reseaux-sociaux//2015/05/26/video-quand-le-parapluie-du-gentleman-obama-embrase-les-reseaux-sociaux/#respond',\n",
       "       u'http://www.sunuker.com/2015/05/26/video-quand-le-parapluie-du-gentleman-obama-embrase-les-reseaux-sociaux/mailto:?subject=Visit this link find on http://www.sunuker.com&body=Hi, I found this information for you : \"VIDEO \\u2013 Quand le parapluie du \\xab\\xa0gentleman\\xa0\\xbb Obama embrase les r\\xe9seaux sociaux\"! This is the direct link: http://www.sunuker.com/2015/05/26/video-quand-le-parapluie-du-gentleman-obama-embrase-les-reseaux-sociaux/ Have a nice day :)',\n",
       "       u'http://www.sunuker.com/wp-content/uploads/2015/05/Obama-Parapluie.jpeg',\n",
       "       u'http://www.telesenegal.com/Indonesie-effondrement-d-un-pont-suspendu-reliant-deux-iles-touristiques_a4215.html',\n",
       "       u'http://www.telesenegal.com/La-video-choc-du-camp-Trump-contre-Hillary-Clinton_a3964.html/Indonesie-effondrement-d-un-pont-suspendu-reliant-deux-iles-touristiques_a4215.html',\n",
       "       u'http://www.telesenegal.com/Les-phablettes-de-Samsung-persona-non-grata-dans-les-airs_a4251.html/Indonesie-effondrement-d-un-pont-suspendu-reliant-deux-iles-touristiques_a4215.html',\n",
       "       'http://www.walf-groupe.com/convocation-de-barthelemy-dias-cheikh-bamba-dieye-denonce-une-justice-climatique/',\n",
       "       'http://xibaaru.com/people/quand-macky-fait-tomber-la-pluie-a-kaffrine/',\n",
       "       'http://xibaaru.com/people/quand-macky-fait-tomber-la-pluie-a-kaffrine/#mh-comments',\n",
       "       u'https://plus.google.com/share?url=http://www.sunuker.com/2015/05/26/video-quand-le-parapluie-du-gentleman-obama-embrase-les-reseaux-sociaux/'], dtype=object)"
      ]
     },
     "execution_count": 29,
     "metadata": {},
     "output_type": "execute_result"
    }
   ],
   "source": [
    "flood_kwds='(pluviométri|bidonville|montée des eaux|flood|zone risque|remblai|effondrement|engorgement|débordé|digue|submergé|éclatement barrage|'\n",
    "flood_kwds= flood_kwds+'rupture barrage|glissement terrain|climatique|inondé|inondation|inondations|pluies|pluie)'\n",
    "#2nd iter\n",
    "flood_page_from_all_page1= [x for x in all_page1 if re.search(flood_kwds,x) is not None]\n",
    "#1st iter\n",
    "flood_page_from_all_page= [x for x in all_page if re.search(flood_kwds,x) is not None]\n",
    "flood_page=flood_page_from_all_page + flood_page_from_all_page1\n",
    "flood_page=np.unique(flood_page)\n",
    "flood_page"
   ]
  },
  {
   "cell_type": "markdown",
   "metadata": {},
   "source": [
    "## Save results:"
   ]
  },
  {
   "cell_type": "code",
   "execution_count": 30,
   "metadata": {
    "collapsed": false
   },
   "outputs": [
    {
     "data": {
      "text/html": [
       "<div>\n",
       "<table border=\"1\" class=\"dataframe\">\n",
       "  <thead>\n",
       "    <tr style=\"text-align: right;\">\n",
       "      <th></th>\n",
       "      <th>link</th>\n",
       "    </tr>\n",
       "  </thead>\n",
       "  <tbody>\n",
       "    <tr>\n",
       "      <th>0</th>\n",
       "      <td>http://del.icio.us/post?url=http://www.sunuker...</td>\n",
       "    </tr>\n",
       "    <tr>\n",
       "      <th>1</th>\n",
       "      <td>http://digg.com/submit?phase=2&amp;url=http://www....</td>\n",
       "    </tr>\n",
       "    <tr>\n",
       "      <th>2</th>\n",
       "      <td>http://laviesenegalaise.com/inondations-saint-...</td>\n",
       "    </tr>\n",
       "    <tr>\n",
       "      <th>3</th>\n",
       "      <td>http://laviesenegalaise.com/inondations-saint-...</td>\n",
       "    </tr>\n",
       "    <tr>\n",
       "      <th>4</th>\n",
       "      <td>http://ledakarois.netbethio-radie-ses-cheikhs-...</td>\n",
       "    </tr>\n",
       "  </tbody>\n",
       "</table>\n",
       "</div>"
      ],
      "text/plain": [
       "                                                link\n",
       "0  http://del.icio.us/post?url=http://www.sunuker...\n",
       "1  http://digg.com/submit?phase=2&url=http://www....\n",
       "2  http://laviesenegalaise.com/inondations-saint-...\n",
       "3  http://laviesenegalaise.com/inondations-saint-...\n",
       "4  http://ledakarois.netbethio-radie-ses-cheikhs-..."
      ]
     },
     "execution_count": 30,
     "metadata": {},
     "output_type": "execute_result"
    }
   ],
   "source": [
    "df = pd.DataFrame(data=flood_page, index= range(len(flood_page)), columns=['link'])\n",
    "df.to_csv(\"potential_flood_events.csv\",sep=\";\",encoding=\"utf-8\")\n",
    "df.head()"
   ]
  },
  {
   "cell_type": "code",
   "execution_count": 31,
   "metadata": {
    "collapsed": false
   },
   "outputs": [
    {
     "data": {
      "text/plain": [
       "(139, 1)"
      ]
     },
     "execution_count": 31,
     "metadata": {},
     "output_type": "execute_result"
    }
   ],
   "source": [
    "df.shape"
   ]
  },
  {
   "cell_type": "markdown",
   "metadata": {},
   "source": [
    "# Output: link of page, story,location and date "
   ]
  },
  {
   "cell_type": "code",
   "execution_count": null,
   "metadata": {
    "collapsed": true
   },
   "outputs": [],
   "source": []
  },
  {
   "cell_type": "code",
   "execution_count": null,
   "metadata": {
    "collapsed": true
   },
   "outputs": [],
   "source": []
  }
 ],
 "metadata": {
  "kernelspec": {
   "display_name": "Python 2",
   "language": "python",
   "name": "python2"
  },
  "language_info": {
   "codemirror_mode": {
    "name": "ipython",
    "version": 2
   },
   "file_extension": ".py",
   "mimetype": "text/x-python",
   "name": "python",
   "nbconvert_exporter": "python",
   "pygments_lexer": "ipython2",
   "version": "2.7.10"
  }
 },
 "nbformat": 4,
 "nbformat_minor": 1
}
