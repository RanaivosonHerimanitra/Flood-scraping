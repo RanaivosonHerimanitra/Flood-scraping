{
 "cells": [
  {
   "cell_type": "code",
   "execution_count": 108,
   "metadata": {
    "collapsed": true
   },
   "outputs": [],
   "source": [
    "import httplib\n",
    "from nltk.stem.snowball import FrenchStemmer\n",
    "from nltk.corpus import stopwords\n",
    "import nltk\n",
    "from sklearn.feature_extraction.text import TfidfVectorizer,CountVectorizer\n",
    "import urllib2\n",
    "import random\n",
    "import re\n",
    "import requests\n",
    "from httplib import IncompleteRead\n",
    "import json\n",
    "from bs4 import BeautifulSoup\n",
    "import pandas as pd\n",
    "import numpy as np\n",
    "import sys  \n",
    "#reload(sys)  \n",
    "#sys.setdefaultencoding('latin-1')"
   ]
  },
  {
   "cell_type": "code",
   "execution_count": 109,
   "metadata": {
    "collapsed": true
   },
   "outputs": [],
   "source": [
    "departement=['Bakel','Bambey','Bignona','Birkelane','Bounkiling','Dagana','Dakar','Diourbel','Fatick','Foundiougne',\n",
    "            'Gossas','Goudiry','Goudomp','Guediawaye','Guinguineo','Kaffrine','Kanel','Kaolack',\n",
    "             'Kebemer','Kedougou','Kolda','Koumpentoum','Koungheul','Linguere','Louga','Mbour',\n",
    "             'Malem Hodar','Matam','Mbacke','Medina Yoro Foulah','Nioro du Rip','Oussouye',\n",
    "             'Pikine','Podor','Ranerou-Ferlo','Rufisque','Saint-Louis','st louis','Salemata','Saraya',\n",
    "             'Sedhiou','Tambacounda','Thies','Tivaouane','Velingara','Ziguinchor']\n",
    "\n",
    "arrondissement = ['Almadies','Agnam Civol','Baba Garage','Bandafassi','Brassou','Bala','Bele','Boghal','Bona',\n",
    "                  'Boyngel Bamba','Bamba Thialene','Barkedji','Bembou','Bonkoto','Cas-Cas','Colobane','Coki',\n",
    "                  'Darou Minam','Dar Salam','Dakateli','Dagoudane','Dodji','Dakar Plateau',\n",
    "                  'Diakhao','Djilor','Djibanar','Djoulacolon','Diaroume','Darou Mousty','Dianke Makha','Diende',\n",
    "                  'Djibabouya','Djiredji','Fafacourou','Fissel','Fongolembi', 'Fimela',\n",
    "                  'Grand Dakar','Gamadji Sare','Guediawaye','Gniby',\n",
    "                  'Kataba','Kael','Kabrousse','Katakel','Karatanba','Koussanar','Keur Moussa',\n",
    "                  'Keniaba','Koulor','Koumbal','Kouthiaba Wolof','Keur Momar Sarr','Keur Mboucki',\n",
    "                  'Lambaye','Lour Escale','Loudia Ouoloff','Ida Mouride',\n",
    "                  'Mampatim','Makacolibantang','Mouderi','Mbane','Mbadakhoune','Missira Wadine','Missirah',\n",
    "                  'Meouane','Mbediene','Mabo','Medina Sabakh',\n",
    "                  'Ndindy','Ndoulo','Ndiedieng','Ndande','Ndame','Niodor','Ngoye','Ndorna','Niakhene',\n",
    "                  'Niaming','Niayes','Ndiaye','Niakhar','Niaguis','Notto','Nyassia',\n",
    "                  'Ogo','Orkadiere','Ouadiour', 'Parcelles Assainies','Pambal','Pakour','Paoskoto','Rao','Rufisque',\n",
    "                  'Sagatta','Sagatta Dioloff','Sare Bidji','Sare Coly Salle','Sindian','Sangalkam','Sagna','Sakal',\n",
    "                  'Sabodala','Sibassor','Sindia','Sessene','Salde','Thienaba','Thies',\n",
    "                  'Taif','Tendouck','Tenghory','Tattaguine','Thiaroye','Toubacouta','Thille Boubacar',\n",
    "                  'Velingara','Wouro Sidy','Wack Ngouna','Yang Yang']\n",
    "month=['janvier','fevrier','mars','avril','mai','juin','juillet','aout','septembre','octobre','novembre','decembre']"
   ]
  },
  {
   "cell_type": "markdown",
   "metadata": {},
   "source": [
    "### Load data"
   ]
  },
  {
   "cell_type": "code",
   "execution_count": 110,
   "metadata": {
    "collapsed": false
   },
   "outputs": [
    {
     "data": {
      "text/plain": [
       "(344, 4)"
      ]
     },
     "execution_count": 110,
     "metadata": {},
     "output_type": "execute_result"
    }
   ],
   "source": [
    "df= pd.read_csv(\"flood_event_story.csv\",sep=\";\")\n",
    "df.shape"
   ]
  },
  {
   "cell_type": "markdown",
   "metadata": {},
   "source": [
    "### Remove link that had not story"
   ]
  },
  {
   "cell_type": "code",
   "execution_count": 111,
   "metadata": {
    "collapsed": false
   },
   "outputs": [
    {
     "data": {
      "text/plain": [
       "(246, 4)"
      ]
     },
     "execution_count": 111,
     "metadata": {},
     "output_type": "execute_result"
    }
   ],
   "source": [
    "df['story']=df['story'].apply(lambda x: str(x).strip() )\n",
    "df=df[ df['story']!='nan' ]\n",
    "df.index= range(len(df.link))\n",
    "df.shape"
   ]
  },
  {
   "cell_type": "markdown",
   "metadata": {
    "collapsed": false
   },
   "source": [
    "### Remove newline from paragraph of each story"
   ]
  },
  {
   "cell_type": "code",
   "execution_count": 112,
   "metadata": {
    "collapsed": false
   },
   "outputs": [
    {
     "data": {
      "text/plain": [
       "241    Déc 10, 2013 Oct 19, 2016 Oct 19, 2016 Oct 19,...\n",
       "242    18/10/2016 lemzo lemzo Dernière minute, People...\n",
       "243    18/10/2016 lemzo lemzo Dernière minute, People...\n",
       "244    Sign in with a different account         Creat...\n",
       "245    Sign in with a different account         Creat...\n",
       "Name: story, dtype: object"
      ]
     },
     "execution_count": 112,
     "metadata": {},
     "output_type": "execute_result"
    }
   ],
   "source": [
    "df['story']= df['story'].apply( lambda x: x.replace('\\n',' ') )\n",
    "df['story']= df['story'].apply( lambda x: x.replace('\\t',' ') )\n",
    "df['story']= df['story'].apply( lambda x: x.replace('.>>','') )\n",
    "df['story']= df['story'].apply( lambda x: x.replace('\"','') )\n",
    "df['story']= df['story'].apply( lambda x: x.replace('«','') )\n",
    "df['story']= df['story'].apply( lambda x: x.strip() )\n",
    "df['story'].tail()"
   ]
  },
  {
   "cell_type": "markdown",
   "metadata": {},
   "source": [
    "### Give score of relevance and remove 0 score"
   ]
  },
  {
   "cell_type": "code",
   "execution_count": 113,
   "metadata": {
    "collapsed": false
   },
   "outputs": [
    {
     "data": {
      "text/plain": [
       "(75, 5)"
      ]
     },
     "execution_count": 113,
     "metadata": {},
     "output_type": "execute_result"
    }
   ],
   "source": [
    "#main subject on the link +1\n",
    "df['relevancy'] = [1 if re.search(\"(inondation|inondes)\",x) is not None else 0 for x in df.link  ]\n",
    "# main subject on the content story +1\n",
    "df['relevancy'] += [1 if re.search(\"(inondation|inondes|sinistre)\",x) is not None else 0 for x in df.story]\n",
    "#exact match on explicit group of words +2\n",
    "df['relevancy'] += [2 if re.search(\"\\\\bsous les eaux\\\\b\",x) is not None else 0 for x in df.story]\n",
    "df['relevancy'] += [2 if re.search(\"\\\\binondés par\\\\b\",x) is not None else 0 for x in df.story]\n",
    "df['relevancy'] += [2 if re.search(\"\\\\binondations à\\\\b\",x) is not None else 0 for x in df.story]\n",
    "#other keywords that may be indicative\n",
    "df['relevancy'] += [1 if re.search(\"\\\\commune de\\\\b\",x) is not None else 0 for x in df.story]\n",
    "df['relevancy'] += [1 if re.search(\"\\\\département de\\\\b\",x) is not None else 0 for x in df.story]\n",
    "df['relevancy'] += [1 if re.search(\"\\\\assainissement\\\\b\",x) is not None else 0 for x in df.story]\n",
    "df['relevancy'] += [1 if re.search(\"\\\\les eaux\\\\b\",x) is not None else 0 for x in df.story]\n",
    "df['relevancy'] += [0.5 if re.search(\"\\\\problème\\\\b\",x) is not None else 0 for x in df.story]\n",
    "df['relevancy'] += [0.5 if re.search(\"\\\\interpelle\\\\b\",x) is not None else 0 for x in df.story]\n",
    "# mention of any department on content +1:\n",
    "df['relevancy'] +=[ 1 if x in departement else 0 for x in df.story ]\n",
    "# mention of any arrondissement on content +1:\n",
    "df['relevancy'] +=[ 1 if x in arrondissement else 0 for x in df.story  ]\n",
    "df=df[df.relevancy>0]\n",
    "df.index= range(len(df.link))\n",
    "df.shape"
   ]
  },
  {
   "cell_type": "markdown",
   "metadata": {},
   "source": [
    "### Sort result for visualization"
   ]
  },
  {
   "cell_type": "code",
   "execution_count": 114,
   "metadata": {
    "collapsed": false
   },
   "outputs": [
    {
     "data": {
      "text/html": [
       "<div>\n",
       "<table border=\"1\" class=\"dataframe\">\n",
       "  <thead>\n",
       "    <tr style=\"text-align: right;\">\n",
       "      <th></th>\n",
       "      <th>story</th>\n",
       "      <th>link</th>\n",
       "      <th>relevancy</th>\n",
       "    </tr>\n",
       "  </thead>\n",
       "  <tbody>\n",
       "    <tr>\n",
       "      <th>65</th>\n",
       "      <td>12/07/2015 à 19:38  22/02/2016 à 22:42 → Accue...</td>\n",
       "      <td>http://www.senenews.com/2015/07/12/kaffrine-so...</td>\n",
       "      <td>5.5</td>\n",
       "    </tr>\n",
       "    <tr>\n",
       "      <th>51</th>\n",
       "      <td>Quotidien d'informations du Senegal Voir tous ...</td>\n",
       "      <td>http://www.senegaltribune.com/articles/3263/1/...</td>\n",
       "      <td>5.0</td>\n",
       "    </tr>\n",
       "    <tr>\n",
       "      <th>0</th>\n",
       "      <td>Après les fortes pluies de la nuit du dimanche...</td>\n",
       "      <td>http://laviesenegalaise.com/inondations-a-mata...</td>\n",
       "      <td>4.5</td>\n",
       "    </tr>\n",
       "    <tr>\n",
       "      <th>36</th>\n",
       "      <td>Quotidien d'informations du Senegal Voir tous ...</td>\n",
       "      <td>http://www.senegaltribune.com/articles/2889/1/...</td>\n",
       "      <td>4.5</td>\n",
       "    </tr>\n",
       "    <tr>\n",
       "      <th>1</th>\n",
       "      <td>Après les fortes pluies de la nuit du dimanche...</td>\n",
       "      <td>http://laviesenegalaise.com/inondations-a-mata...</td>\n",
       "      <td>4.5</td>\n",
       "    </tr>\n",
       "  </tbody>\n",
       "</table>\n",
       "</div>"
      ],
      "text/plain": [
       "                                                story  \\\n",
       "65  12/07/2015 à 19:38  22/02/2016 à 22:42 → Accue...   \n",
       "51  Quotidien d'informations du Senegal Voir tous ...   \n",
       "0   Après les fortes pluies de la nuit du dimanche...   \n",
       "36  Quotidien d'informations du Senegal Voir tous ...   \n",
       "1   Après les fortes pluies de la nuit du dimanche...   \n",
       "\n",
       "                                                 link  relevancy  \n",
       "65  http://www.senenews.com/2015/07/12/kaffrine-so...        5.5  \n",
       "51  http://www.senegaltribune.com/articles/3263/1/...        5.0  \n",
       "0   http://laviesenegalaise.com/inondations-a-mata...        4.5  \n",
       "36  http://www.senegaltribune.com/articles/2889/1/...        4.5  \n",
       "1   http://laviesenegalaise.com/inondations-a-mata...        4.5  "
      ]
     },
     "execution_count": 114,
     "metadata": {},
     "output_type": "execute_result"
    }
   ],
   "source": [
    "df[['story','link','relevancy']].sort_values(by=['relevancy'], ascending=False).head()"
   ]
  },
  {
   "cell_type": "markdown",
   "metadata": {},
   "source": [
    "### Get place (department or arrondissement )"
   ]
  },
  {
   "cell_type": "code",
   "execution_count": 115,
   "metadata": {
    "collapsed": false
   },
   "outputs": [],
   "source": [
    "df['place']=''\n",
    "for i, j in enumerate(df['link']):\n",
    "    x= [ k for k in departement if k.lower() in j  ] +[ k for k in arrondissement if k.lower() in j  ]\n",
    "    if x!=[]:\n",
    "        if len(x)==1:\n",
    "            df.loc[i,'place']=str(x)\n",
    "        if len(x)>1:\n",
    "            df.loc[i,'place']=\"-\".join(x)\n",
    "    else:\n",
    "        df.loc[i,'place']=''"
   ]
  },
  {
   "cell_type": "markdown",
   "metadata": {},
   "source": [
    "### Search for place in \"Story\" content of each page"
   ]
  },
  {
   "cell_type": "code",
   "execution_count": 116,
   "metadata": {
    "collapsed": false
   },
   "outputs": [],
   "source": [
    "for i, j in enumerate(df['story']):\n",
    "    x= [ k for k in departement if k.lower() in j and df.loc[i,'place']==''  ]\n",
    "    x += [ k for k in arrondissement if k.lower() in j and df.loc[i,'place']==''  ]\n",
    "    if x!=[]:\n",
    "        if len(x)==1:\n",
    "            df.loc[i,'place']=str(x)\n",
    "        if len(x)>1:\n",
    "            df.loc[i,'place']=\"-\".join(x)"
   ]
  },
  {
   "cell_type": "markdown",
   "metadata": {},
   "source": [
    "### Check duplicate records"
   ]
  },
  {
   "cell_type": "code",
   "execution_count": 117,
   "metadata": {
    "collapsed": false
   },
   "outputs": [],
   "source": [
    "# mean number of character of all the links\n",
    "# slice based on median\n",
    "#drop duplicates based on those shorten links\n",
    "# but before decrease until duplicates appear\n",
    "z=[len(x) for x in df.link]\n",
    "median_link_index= int(round(np.median(z)))\n",
    "L=len(df.link)\n",
    "while L == len(df.link):\n",
    "    df['link_median']= df['link'].apply(lambda x: x[:median_link_index])\n",
    "    L=len(df.link_median.unique())\n",
    "    median_link_index= median_link_index - 5\n",
    "df=df.drop_duplicates(subset=[\"link_median\"], inplace = False)"
   ]
  },
  {
   "cell_type": "markdown",
   "metadata": {},
   "source": [
    "### Get keywords from links"
   ]
  },
  {
   "cell_type": "markdown",
   "metadata": {
    "collapsed": true
   },
   "source": [
    "* from links\n",
    "* from story content"
   ]
  },
  {
   "cell_type": "code",
   "execution_count": 118,
   "metadata": {
    "collapsed": false
   },
   "outputs": [
    {
     "data": {
      "text/plain": [
       "0    laviesenegalaise.com/inondations a matam ouros...\n",
       "1    laviesenegalaise.com/inondations a matam ouros...\n",
       "2    lepays.bf/changements climatiques au burkina v...\n",
       "3    lepays.bf/changements climatiques au burkina v...\n",
       "4    www.cm.undp.org/content/cameroon/fr/home/press...\n",
       "Name: link_kwds, dtype: object"
      ]
     },
     "execution_count": 118,
     "metadata": {},
     "output_type": "execute_result"
    }
   ],
   "source": [
    "def handle_links(x):\n",
    "    x= x.replace('//','-')\n",
    "    x=x.replace('--','-')\n",
    "    x=x.split('-')\n",
    "    #ignore www & domaine name\n",
    "    x= ' '.join(x[1:])\n",
    "    x=x.replace(\".html\",\"\")\n",
    "    x=x.strip()\n",
    "    return x\n",
    "df['link_kwds']=df['link'].apply(lambda x: handle_links(x) )\n",
    "df.link_kwds.head()"
   ]
  },
  {
   "cell_type": "markdown",
   "metadata": {
    "collapsed": true
   },
   "source": [
    "### Remove french stop words from keywords links, story variables"
   ]
  },
  {
   "cell_type": "code",
   "execution_count": 119,
   "metadata": {
    "collapsed": false
   },
   "outputs": [],
   "source": [
    "df['link_kwds']= df['link_kwds'].apply(lambda x: ' '.join([ j for j in unicode(x,'utf-8').split(' ') if j not in stopwords.words('french')]))"
   ]
  },
  {
   "cell_type": "code",
   "execution_count": 120,
   "metadata": {
    "collapsed": false
   },
   "outputs": [
    {
     "name": "stderr",
     "output_type": "stream",
     "text": [
      "/usr/local/lib/python2.7/dist-packages/ipykernel/__main__.py:1: UnicodeWarning: Unicode equal comparison failed to convert both arguments to Unicode - interpreting them as being unequal\n",
      "  if __name__ == '__main__':\n"
     ]
    }
   ],
   "source": [
    "df['story']= df['story'].apply(lambda x: ' '.join([ j for j in x.split(' ') if j not in stopwords.words('french')]))"
   ]
  },
  {
   "cell_type": "markdown",
   "metadata": {},
   "source": [
    "### Apply stemming to keywords links , story variables"
   ]
  },
  {
   "cell_type": "code",
   "execution_count": 121,
   "metadata": {
    "collapsed": false
   },
   "outputs": [
    {
     "data": {
      "text/plain": [
       "70    partager publication l’afrique face aux change...\n",
       "71    partager publication sport les mbourois braven...\n",
       "72    partager publication inondation : st louis  le...\n",
       "73    de fortes pluies à hauteur 29 millimètres tomb...\n",
       "74    de fortes pluies à hauteur 29 millimètres tomb...\n",
       "Name: story, dtype: object"
      ]
     },
     "execution_count": 121,
     "metadata": {},
     "output_type": "execute_result"
    }
   ],
   "source": [
    "df['link_kwds']= df['link_kwds'].apply(lambda x:FrenchStemmer().stem(x))\n",
    "df['story']= df['story'].apply(lambda x:FrenchStemmer().stem(unicode(x,'utf-8')))\n",
    "df['story']= df['story'].apply( lambda x: x.strip() )\n",
    "df['story'].tail()"
   ]
  },
  {
   "cell_type": "markdown",
   "metadata": {},
   "source": [
    "### Loop again to get place name for those missing"
   ]
  },
  {
   "cell_type": "code",
   "execution_count": 122,
   "metadata": {
    "collapsed": false
   },
   "outputs": [],
   "source": [
    "for i, j in enumerate(df['link']):\n",
    "    x= [ k for k in departement if k.lower() in j  ] +[ k for k in arrondissement if k.lower() in j  ]\n",
    "    if x!=[] and df.loc[i,'place']=='':\n",
    "        if len(x)==1:\n",
    "            df.loc[i,'place']=str(x)\n",
    "        if len(x)>1:\n",
    "            df.loc[i,'place']=\"-\".join(x)\n",
    "######################################################################################################\n",
    "for i, j in enumerate(df['link_kwds']):\n",
    "    x= [ k for k in departement if k.lower() in j  ] +[ k for k in arrondissement if k.lower() in j ]\n",
    "    if x!=[] and df.loc[i,'place']=='':\n",
    "        if len(x)==1:\n",
    "            df.loc[i,'place']=str(x)\n",
    "        if len(x)>1:\n",
    "            df.loc[i,'place']=\"-\".join(x)"
   ]
  },
  {
   "cell_type": "markdown",
   "metadata": {},
   "source": [
    "### drop those that do not have place"
   ]
  },
  {
   "cell_type": "code",
   "execution_count": 123,
   "metadata": {
    "collapsed": false
   },
   "outputs": [
    {
     "data": {
      "text/plain": [
       "(35, 8)"
      ]
     },
     "execution_count": 123,
     "metadata": {},
     "output_type": "execute_result"
    }
   ],
   "source": [
    "df=df[df.place!='']\n",
    "df.index=range(len(df))\n",
    "df.shape"
   ]
  },
  {
   "cell_type": "markdown",
   "metadata": {},
   "source": [
    "## Get year"
   ]
  },
  {
   "cell_type": "code",
   "execution_count": 124,
   "metadata": {
    "collapsed": false
   },
   "outputs": [],
   "source": [
    "df['date']=df['link'].apply( lambda x: [ z for z in range(2000,2016) if str(z) in x  ] )\n",
    "df['date']=df['link_kwds'].apply( lambda x: [ z for z in range(2000,2016) if str(z) in x and x!=[] ] )\n",
    "df['date']=df['story'].apply( lambda x: [ z for z in range(2000,2016) if str(z) in x and x!=[] ] )"
   ]
  },
  {
   "cell_type": "code",
   "execution_count": 125,
   "metadata": {
    "collapsed": false
   },
   "outputs": [
    {
     "data": {
      "text/html": [
       "<div>\n",
       "<table border=\"1\" class=\"dataframe\">\n",
       "  <thead>\n",
       "    <tr style=\"text-align: right;\">\n",
       "      <th></th>\n",
       "      <th>link</th>\n",
       "      <th>place</th>\n",
       "      <th>date</th>\n",
       "    </tr>\n",
       "  </thead>\n",
       "  <tbody>\n",
       "    <tr>\n",
       "      <th>0</th>\n",
       "      <td>http://laviesenegalaise.com/inondations-a-mata...</td>\n",
       "      <td>['Matam']</td>\n",
       "      <td>[]</td>\n",
       "    </tr>\n",
       "    <tr>\n",
       "      <th>1</th>\n",
       "      <td>http://laviesenegalaise.com/inondations-a-mata...</td>\n",
       "      <td>['Matam']</td>\n",
       "      <td>[]</td>\n",
       "    </tr>\n",
       "    <tr>\n",
       "      <th>2</th>\n",
       "      <td>http://www.dakar-echo.com/consequences-fortes-...</td>\n",
       "      <td>Dakar-Matam</td>\n",
       "      <td>[]</td>\n",
       "    </tr>\n",
       "    <tr>\n",
       "      <th>3</th>\n",
       "      <td>http://www.igfm.sn/fuites-de-conduites-a-thiar...</td>\n",
       "      <td>['Thiaroye']</td>\n",
       "      <td>[]</td>\n",
       "    </tr>\n",
       "    <tr>\n",
       "      <th>4</th>\n",
       "      <td>http://www.jaaduwul.com/divers/11_inondation-u...</td>\n",
       "      <td>['Saint-Louis']</td>\n",
       "      <td>[2015]</td>\n",
       "    </tr>\n",
       "    <tr>\n",
       "      <th>5</th>\n",
       "      <td>http://www.jaaduwul.com/divers/11_inondations-...</td>\n",
       "      <td>['Saint-Louis']</td>\n",
       "      <td>[2015]</td>\n",
       "    </tr>\n",
       "    <tr>\n",
       "      <th>6</th>\n",
       "      <td>http://www.jaaduwul.com/divers/12_espace-et-vi...</td>\n",
       "      <td>['Kaolack']</td>\n",
       "      <td>[2015]</td>\n",
       "    </tr>\n",
       "    <tr>\n",
       "      <th>7</th>\n",
       "      <td>http://www.jaaduwul.com/divers/20_espace-et-vi...</td>\n",
       "      <td>['Thiaroye']</td>\n",
       "      <td>[2015]</td>\n",
       "    </tr>\n",
       "    <tr>\n",
       "      <th>8</th>\n",
       "      <td>http://www.jaaduwul.com/divers/20_rfi-reportag...</td>\n",
       "      <td>['Thiaroye']</td>\n",
       "      <td>[2015]</td>\n",
       "    </tr>\n",
       "    <tr>\n",
       "      <th>9</th>\n",
       "      <td>http://www.jaaduwul.com/divers/26_inondations-...</td>\n",
       "      <td>['Saint-Louis']</td>\n",
       "      <td>[2011, 2015]</td>\n",
       "    </tr>\n",
       "    <tr>\n",
       "      <th>10</th>\n",
       "      <td>http://www.jaaduwul.com/divers/6_rfi-reportage...</td>\n",
       "      <td>['Saint-Louis']</td>\n",
       "      <td>[2015]</td>\n",
       "    </tr>\n",
       "    <tr>\n",
       "      <th>11</th>\n",
       "      <td>http://www.jaaduwul.com/divers/9_inondations-s...</td>\n",
       "      <td>['Saint-Louis']</td>\n",
       "      <td>[2015]</td>\n",
       "    </tr>\n",
       "    <tr>\n",
       "      <th>12</th>\n",
       "      <td>http://www.senegaltribune.com/articles/1682/1/...</td>\n",
       "      <td>['Tivaouane']</td>\n",
       "      <td>[]</td>\n",
       "    </tr>\n",
       "    <tr>\n",
       "      <th>13</th>\n",
       "      <td>http://www.senegaltribune.com/articles/2889/1/...</td>\n",
       "      <td>['Dakar']</td>\n",
       "      <td>[]</td>\n",
       "    </tr>\n",
       "    <tr>\n",
       "      <th>14</th>\n",
       "      <td>http://www.senegaltribune.com/articles/2889/1/...</td>\n",
       "      <td>['Dakar']</td>\n",
       "      <td>[]</td>\n",
       "    </tr>\n",
       "    <tr>\n",
       "      <th>15</th>\n",
       "      <td>http://www.senegaltribune.com/articles/2955/1/...</td>\n",
       "      <td>Guediawaye-Pikine-Guediawaye</td>\n",
       "      <td>[]</td>\n",
       "    </tr>\n",
       "    <tr>\n",
       "      <th>16</th>\n",
       "      <td>http://www.senegaltribune.com/articles/2964/1/...</td>\n",
       "      <td>['Dakar']</td>\n",
       "      <td>[2005, 2010]</td>\n",
       "    </tr>\n",
       "    <tr>\n",
       "      <th>17</th>\n",
       "      <td>http://www.senegaltribune.com/articles/2982/1/...</td>\n",
       "      <td>Velingara-Velingara</td>\n",
       "      <td>[]</td>\n",
       "    </tr>\n",
       "    <tr>\n",
       "      <th>18</th>\n",
       "      <td>http://www.senegaltribune.com/articles/2998/1/...</td>\n",
       "      <td>['Mbour']</td>\n",
       "      <td>[]</td>\n",
       "    </tr>\n",
       "    <tr>\n",
       "      <th>19</th>\n",
       "      <td>http://www.senegaltribune.com/articles/3007/1/...</td>\n",
       "      <td>['Dakar']</td>\n",
       "      <td>[2009]</td>\n",
       "    </tr>\n",
       "    <tr>\n",
       "      <th>20</th>\n",
       "      <td>http://www.senegaltribune.com/articles/7312/1/...</td>\n",
       "      <td>Thies-Thies</td>\n",
       "      <td>[2005, 2012]</td>\n",
       "    </tr>\n",
       "    <tr>\n",
       "      <th>21</th>\n",
       "      <td>http://www.senegaltribune.com/articles/7325/1/...</td>\n",
       "      <td>['Kaffrine']</td>\n",
       "      <td>[2011]</td>\n",
       "    </tr>\n",
       "    <tr>\n",
       "      <th>22</th>\n",
       "      <td>http://www.senenews.com/2015/07/10/la-pluie-fa...</td>\n",
       "      <td>['Kaffrine']</td>\n",
       "      <td>[2015]</td>\n",
       "    </tr>\n",
       "    <tr>\n",
       "      <th>23</th>\n",
       "      <td>http://www.senenews.com/2015/07/12/kaffrine-so...</td>\n",
       "      <td>['Kaffrine']</td>\n",
       "      <td>[2015]</td>\n",
       "    </tr>\n",
       "    <tr>\n",
       "      <th>24</th>\n",
       "      <td>http://www.senenews.com/2015/12/09/cop21-et-ch...</td>\n",
       "      <td>['Tambacounda']</td>\n",
       "      <td>[2015]</td>\n",
       "    </tr>\n",
       "    <tr>\n",
       "      <th>25</th>\n",
       "      <td>http://www.senenews.com/2016/08/20/drame-a-tam...</td>\n",
       "      <td>['Tambacounda']</td>\n",
       "      <td>[]</td>\n",
       "    </tr>\n",
       "    <tr>\n",
       "      <th>26</th>\n",
       "      <td>http://www.senenews.com/2016/10/19/kaolack-plu...</td>\n",
       "      <td>['Kaolack']</td>\n",
       "      <td>[]</td>\n",
       "    </tr>\n",
       "    <tr>\n",
       "      <th>27</th>\n",
       "      <td>http://www.sunuker.com/2014/09/25/lafrique-fac...</td>\n",
       "      <td>['Ogo']</td>\n",
       "      <td>[2013]</td>\n",
       "    </tr>\n",
       "    <tr>\n",
       "      <th>28</th>\n",
       "      <td>http://www.sunuker.com/2015/07/27/sport-les-mb...</td>\n",
       "      <td>['Mbour']</td>\n",
       "      <td>[2015]</td>\n",
       "    </tr>\n",
       "    <tr>\n",
       "      <th>29</th>\n",
       "      <td>http://www.sunuker.com/2015/08/20/inondation-s...</td>\n",
       "      <td>Velingara-Velingara</td>\n",
       "      <td>[]</td>\n",
       "    </tr>\n",
       "    <tr>\n",
       "      <th>30</th>\n",
       "      <td>http://www.walf-groupe.com/les-premieres-pluie...</td>\n",
       "      <td>Velingara-Velingara</td>\n",
       "      <td>[]</td>\n",
       "    </tr>\n",
       "    <tr>\n",
       "      <th>31</th>\n",
       "      <td>http://www.walf-groupe.com/les-premieres-pluie...</td>\n",
       "      <td>Velingara-Velingara</td>\n",
       "      <td>[]</td>\n",
       "    </tr>\n",
       "  </tbody>\n",
       "</table>\n",
       "</div>"
      ],
      "text/plain": [
       "                                                 link  \\\n",
       "0   http://laviesenegalaise.com/inondations-a-mata...   \n",
       "1   http://laviesenegalaise.com/inondations-a-mata...   \n",
       "2   http://www.dakar-echo.com/consequences-fortes-...   \n",
       "3   http://www.igfm.sn/fuites-de-conduites-a-thiar...   \n",
       "4   http://www.jaaduwul.com/divers/11_inondation-u...   \n",
       "5   http://www.jaaduwul.com/divers/11_inondations-...   \n",
       "6   http://www.jaaduwul.com/divers/12_espace-et-vi...   \n",
       "7   http://www.jaaduwul.com/divers/20_espace-et-vi...   \n",
       "8   http://www.jaaduwul.com/divers/20_rfi-reportag...   \n",
       "9   http://www.jaaduwul.com/divers/26_inondations-...   \n",
       "10  http://www.jaaduwul.com/divers/6_rfi-reportage...   \n",
       "11  http://www.jaaduwul.com/divers/9_inondations-s...   \n",
       "12  http://www.senegaltribune.com/articles/1682/1/...   \n",
       "13  http://www.senegaltribune.com/articles/2889/1/...   \n",
       "14  http://www.senegaltribune.com/articles/2889/1/...   \n",
       "15  http://www.senegaltribune.com/articles/2955/1/...   \n",
       "16  http://www.senegaltribune.com/articles/2964/1/...   \n",
       "17  http://www.senegaltribune.com/articles/2982/1/...   \n",
       "18  http://www.senegaltribune.com/articles/2998/1/...   \n",
       "19  http://www.senegaltribune.com/articles/3007/1/...   \n",
       "20  http://www.senegaltribune.com/articles/7312/1/...   \n",
       "21  http://www.senegaltribune.com/articles/7325/1/...   \n",
       "22  http://www.senenews.com/2015/07/10/la-pluie-fa...   \n",
       "23  http://www.senenews.com/2015/07/12/kaffrine-so...   \n",
       "24  http://www.senenews.com/2015/12/09/cop21-et-ch...   \n",
       "25  http://www.senenews.com/2016/08/20/drame-a-tam...   \n",
       "26  http://www.senenews.com/2016/10/19/kaolack-plu...   \n",
       "27  http://www.sunuker.com/2014/09/25/lafrique-fac...   \n",
       "28  http://www.sunuker.com/2015/07/27/sport-les-mb...   \n",
       "29  http://www.sunuker.com/2015/08/20/inondation-s...   \n",
       "30  http://www.walf-groupe.com/les-premieres-pluie...   \n",
       "31  http://www.walf-groupe.com/les-premieres-pluie...   \n",
       "\n",
       "                           place          date  \n",
       "0                      ['Matam']            []  \n",
       "1                      ['Matam']            []  \n",
       "2                    Dakar-Matam            []  \n",
       "3                   ['Thiaroye']            []  \n",
       "4                ['Saint-Louis']        [2015]  \n",
       "5                ['Saint-Louis']        [2015]  \n",
       "6                    ['Kaolack']        [2015]  \n",
       "7                   ['Thiaroye']        [2015]  \n",
       "8                   ['Thiaroye']        [2015]  \n",
       "9                ['Saint-Louis']  [2011, 2015]  \n",
       "10               ['Saint-Louis']        [2015]  \n",
       "11               ['Saint-Louis']        [2015]  \n",
       "12                 ['Tivaouane']            []  \n",
       "13                     ['Dakar']            []  \n",
       "14                     ['Dakar']            []  \n",
       "15  Guediawaye-Pikine-Guediawaye            []  \n",
       "16                     ['Dakar']  [2005, 2010]  \n",
       "17           Velingara-Velingara            []  \n",
       "18                     ['Mbour']            []  \n",
       "19                     ['Dakar']        [2009]  \n",
       "20                   Thies-Thies  [2005, 2012]  \n",
       "21                  ['Kaffrine']        [2011]  \n",
       "22                  ['Kaffrine']        [2015]  \n",
       "23                  ['Kaffrine']        [2015]  \n",
       "24               ['Tambacounda']        [2015]  \n",
       "25               ['Tambacounda']            []  \n",
       "26                   ['Kaolack']            []  \n",
       "27                       ['Ogo']        [2013]  \n",
       "28                     ['Mbour']        [2015]  \n",
       "29           Velingara-Velingara            []  \n",
       "30           Velingara-Velingara            []  \n",
       "31           Velingara-Velingara            []  "
      ]
     },
     "execution_count": 125,
     "metadata": {},
     "output_type": "execute_result"
    }
   ],
   "source": [
    "df=df[df.relevancy>=1]\n",
    "df.index= range(len(df))\n",
    "df[['link','place','date']]"
   ]
  },
  {
   "cell_type": "code",
   "execution_count": null,
   "metadata": {
    "collapsed": true
   },
   "outputs": [],
   "source": []
  }
 ],
 "metadata": {
  "kernelspec": {
   "display_name": "Python 2",
   "language": "python",
   "name": "python2"
  },
  "language_info": {
   "codemirror_mode": {
    "name": "ipython",
    "version": 2
   },
   "file_extension": ".py",
   "mimetype": "text/x-python",
   "name": "python",
   "nbconvert_exporter": "python",
   "pygments_lexer": "ipython2",
   "version": "2.7.10"
  }
 },
 "nbformat": 4,
 "nbformat_minor": 1
}
